{
 "cells": [
  {
   "cell_type": "markdown",
   "id": "3225e170",
   "metadata": {},
   "source": [
    "# 3. Invert a receiver function\n",
    "In this example we are going to load a receiver function that has been created from seismograms recorded at station  Hyderabad, India, of earthquakes that ocurred in the Philipines. The source station configuration is identical to the one in example 1. We are going to work with receiver function, as in example 2. This example explores the provisions of `pyraysum` for time optimized execution. We are going to directly invoke the Fortran routine `run_bare` from the `fraysum` module with `python` convinience functions from the `prs` module. The inversion will be carried out by the `dual_annealing` function from `scipy.optimize`. The filtering and spectral devision that is required to create receiver functions from the synthetic seismograms is carried out using `numpy` array methods. finally, we will plot the results with `matplotlib`."
   ]
  },
  {
   "cell_type": "code",
   "execution_count": 1,
   "id": "f3ba557c",
   "metadata": {},
   "outputs": [],
   "source": [
    "from pyraysum import prs\n",
    "from fraysum import run_bare\n",
    "import numpy as np\n",
    "import scipy.optimize as spo\n",
    "import matplotlib.pyplot as mp"
   ]
  },
  {
   "cell_type": "markdown",
   "id": "669c57d1",
   "metadata": {},
   "source": [
    "We predict waveforms inside a function `predictRF()`, which accepts a `pyraysum` `Model`, `Geometry`, and `RC` object, which completley define the synthetic seismograms to be computed. Only the `fthickn` and `fvs` attributes of the `Model` will be varied when trying different parameter combinations. The post-processing is determined by the bandpass filter corner frequencies `freqs` and the boolean time window mask `ist` (\"is time\"). Postprocessing is performed on the `numpy.array` `rfarray`. Two post-processing functions are providet. `filtered_rf_array` devides the SV- and SH-spectra by the P-spectra (i.e. computes a receiver function) and filters the data, whereas `filtered_array` returns the filtered SH and SV data."
   ]
  },
  {
   "cell_type": "code",
   "execution_count": 35,
   "id": "f2336808",
   "metadata": {},
   "outputs": [],
   "source": [
    "def predictRF(model, geometry, rc, freqs, rfarray, ist, rf=True):\n",
    "\n",
    "    # Compute synthetic seismograms\n",
    "    traces = run_bare(\n",
    "        model.fthickn,\n",
    "        model.frho,\n",
    "        model.fvp,\n",
    "        model.fvs,\n",
    "        model.fflag,\n",
    "        model.fani,\n",
    "        model.ftrend,\n",
    "        model.fplunge,\n",
    "        model.fstrike,\n",
    "        model.fdip,\n",
    "        model.nlay,\n",
    "        *geometry.parameters,\n",
    "        *rc.parameters\n",
    "    )\n",
    "    \n",
    "    if rf:\n",
    "        # Perfrom spectral division and filtering\n",
    "        prs.filtered_rf_array(\n",
    "            traces, rfarray, geometry.ntr, rc.npts, rc.dt, freqs[0], freqs[1]\n",
    "        )\n",
    "    else:\n",
    "        # Perfrom filtering only\n",
    "        prs.filtered_array(\n",
    "            traces, rfarray, geometry.ntr, rc.npts, rc.dt, freqs[0], freqs[1]\n",
    "        )\n",
    "\n",
    "    # Window traces and flatten array\n",
    "    # This creates alternating radial and transverse RFs for all traces:\n",
    "    # R[0] - T[0] - R[1] - T[1] ...\n",
    "    prediction = rfarray[:, :, ist].reshape(-1)\n",
    "\n",
    "    return prediction"
   ]
  },
  {
   "cell_type": "markdown",
   "id": "579a21f7",
   "metadata": {},
   "source": [
    "Here, we define the misfit function that `dual_annealing` will minimize. The misfit function requires a model vector `theta` as first argument. We define that the first element of the model vector translates is the crustal thickness and the second one the P-to-S-wave velocity ratio. $V_P/V_S$ get's projected to the S-wave velocity assuming a constant P-wave velocity. After that, we define the misfit `cost` between the predicted and observed receiver function, `pred` and `obs`, as the negative cross correlation coefficient and returned. A status message is printed so the user can follow the inversion process. "
   ]
  },
  {
   "cell_type": "code",
   "execution_count": 36,
   "id": "cccecd88",
   "metadata": {},
   "outputs": [],
   "source": [
    "def misfit(theta, model, geometry, rc, freqs, rfarray, ist, obs):\n",
    "\n",
    "    # Set parameters to model object\n",
    "    model.fthickn[0] = theta[0]\n",
    "    model.fvs[0] = model.fvp[0] / theta[1]\n",
    "\n",
    "    # predict receiver functions\n",
    "    pred = predictRF(model, geometry, rc, freqs, rfarray, ist)\n",
    "\n",
    "    # Calculate cross correlation cost function\n",
    "    cost = 1.0 - np.corrcoef(obs, pred)[0][1]\n",
    "\n",
    "    msg = \"h ={: 5.0f}, vpvs ={: 5.3f}, cc ={: 5.3f}\".format(\n",
    "        theta[0], theta[1], 1 - cost\n",
    "    )\n",
    "    \n",
    "    print(msg)\n",
    "\n",
    "    return cost"
   ]
  },
  {
   "cell_type": "markdown",
   "id": "5aad1d60",
   "metadata": {},
   "source": [
    "This plot function allows us to compare the observed and predicted data vectors:"
   ]
  },
  {
   "cell_type": "code",
   "execution_count": 37,
   "id": "8d1728cc",
   "metadata": {},
   "outputs": [],
   "source": [
    "def plot(obs, pred):\n",
    "    fig, ax = mp.subplots(nrows=1, ncols=1)\n",
    "    fig.suptitle(\"Observed and modeled data vector\")\n",
    "    \n",
    "    imid = len(obs)//2\n",
    "    cc = np.corrcoef(obs, pred)[0][1]\n",
    "    title = \"cc = {:.3f}\".format(cc)\n",
    "    \n",
    "    ax.plot(obs, color=\"dimgray\", linewidth=2, label=\"observed\")\n",
    "    ax.plot(pred, color=\"crimson\", linewidth=1, label=\"modeled\")\n",
    "    ax.text(imid, min(pred), 'Radial |', ha='right')\n",
    "    ax.text(imid, min(pred), '| Transverse', ha='left')\n",
    "    ax.legend(title=title)\n",
    "    ax.spines[[\"top\", \"left\", \"right\"]].set_visible(False)\n",
    "    ax.set_yticks([])\n",
    "    ax.set_xlabel(\"Sample\")"
   ]
  },
  {
   "cell_type": "markdown",
   "id": "1d1cc6cf",
   "metadata": {},
   "source": [
    "Now it is time to run the script. We define the backazimuth and slowness of seismic rays arriving at Hyberabad from the Philipines. The time window should span the intervall between 0 and 25 seconds after the arrival of the direct P-wave. Data should be bandpass filtered between 20 and 2 seconds period."
   ]
  },
  {
   "cell_type": "code",
   "execution_count": 38,
   "id": "4fde56d7",
   "metadata": {},
   "outputs": [],
   "source": [
    "if __name__ == \"__main__\":\n",
    "    baz = 90\n",
    "    slow = 0.06\n",
    "\n",
    "    twind = (0, 25)  # seconds time window\n",
    "    freqs = (1 / 20, 1 / 2)  # Hz bandpass filter"
   ]
  },
  {
   "cell_type": "markdown",
   "id": "956884d7",
   "metadata": {},
   "source": [
    "We load the radial and transverse receiver fuctions from file. The present receiver function has been created from 3 high-quality earthquake recordings from the Philipines. Note that `rfr` and `rft` here need to be structured such that the arrival of the direct P-wave is located in the middle of the array. In other words, the acausal part (earlier than direct P) must be as long as the causal part (later than direct P). In this way, the definition of the time window mask `ist` is such that it can be reused for post-processing of the synthetic receiver functions. The windowed receiver function are concatenated to yield the data vector."
   ]
  },
  {
   "cell_type": "code",
   "execution_count": 39,
   "id": "3614ca08",
   "metadata": {},
   "outputs": [],
   "source": [
    "    # Load saved stream\n",
    "    time, rfr, rft = np.loadtxt(\"../data/rf_hyb.dat\", unpack=True)\n",
    "    ist = (time > twind[0]) & (time < twind[1])\n",
    "\n",
    "    observed = np.concatenate((rfr[ist], rft[ist]))"
   ]
  },
  {
   "cell_type": "markdown",
   "id": "b24c1add",
   "metadata": {},
   "source": [
    "We set up the a gross version of the subsurface model by Saul et al. (2000) as a background model, as well as the recording geometry."
   ]
  },
  {
   "cell_type": "code",
   "execution_count": 40,
   "id": "f6147f97",
   "metadata": {},
   "outputs": [],
   "source": [
    "    thickn = [30000, 0]\n",
    "    rho = [2800, 3600]\n",
    "    vp = [6400, 8100]\n",
    "    vs = [3600, 4600]\n",
    "\n",
    "    model = prs.Model(thickn, rho, vp, vs)\n",
    "    geometry = prs.Geometry([baz], [slow])    "
   ]
  },
  {
   "cell_type": "markdown",
   "id": "46dc8a73",
   "metadata": {},
   "source": [
    "We choose the RC parameters so that they match the processing of the receiver functions. In the present case, the receiver funtions are rotated to the P-SV-SH ray coordinate system (`rot=2`), the sampling intervall (`dt`) and number of samlpees (`npts`) matches the one of the input. The `align=1` option (together with `shift=None`, which is the default) assures that the direct P wave is located on the first sample. `mults=3` is required to pre-set the list of phases to be computed. This is the recommendet option for all time-sensitive aplication, as `mults=2` computes many multiples, many of which might not be used at all."
   ]
  },
  {
   "cell_type": "code",
   "execution_count": 41,
   "id": "ace4abd1",
   "metadata": {},
   "outputs": [],
   "source": [
    "    rc = prs.RC(\n",
    "        verbose=False,\n",
    "        rot=2,\n",
    "        dt=time[1] - time[0],\n",
    "        npts=len(rfr),\n",
    "        align=1,\n",
    "        mults=3,        \n",
    "    )"
   ]
  },
  {
   "cell_type": "markdown",
   "id": "fdb64ef3",
   "metadata": {},
   "source": [
    "The phaselist is defined as a list of phase descriptors, which can be read from a previous forward calculation (e.g. example 1). Each ray segment is descibed by a number-letter pair, where the number is the layer index and the letter the phase decriptor, where uppercase indicates upgoing rays and lowercase downgoing rays. See the `rc.set_phaselist` documentation for details.\n",
    "\n",
    "This phaselist resticts the phases to be computed to:\n",
    "\n",
    "0. direct P (*P*)\n",
    "1. P-to-S converted (*PS*)\n",
    "2. P reflected at the surface to downgoing S, reflected at Moho to S (*PpP*)\n",
    "3. P reflected at the surface to downgoing P, reflected at Moho to S (*PpS*)\n",
    "4. P reflected at the surface to downgoing S, reflected at Moho to P (*PsP*)\n",
    "\n",
    "You can try the effect of incorporating *PsS* by adding `\"1P0P0s0S\"` to the phaselist.\n",
    "\n",
    "(Note that *PpS* and *PsP* arrive at the same time and that only phases that end in *S* are directly visible on the receiver function. Phases ending in *P* end up on the *P* polarized trace of the synthetic seismogram, where they become part of the denominator of spectral division when computing the receiver function.)"
   ]
  },
  {
   "cell_type": "code",
   "execution_count": 42,
   "id": "6d39928b",
   "metadata": {},
   "outputs": [],
   "source": [
    "    rc.set_phaselist([\"1P0P\", \"1P0S\", \"1P0P0p0P\", \"1P0P0p0S\", \"1P0P0s0P\"])"
   ]
  },
  {
   "cell_type": "markdown",
   "id": "a7cc10c7",
   "metadata": {},
   "source": [
    "Swift postprocessing of the synthetic receiver function is done on the `rfarray` using numpy array methods, which is here initialized. It is of shape `(geometry.ntr, 2, rc.npts)`."
   ]
  },
  {
   "cell_type": "code",
   "execution_count": 43,
   "id": "24a2e083",
   "metadata": {},
   "outputs": [],
   "source": [
    "    rfarray = prs.rfarray(geometry, rc)"
   ]
  },
  {
   "cell_type": "markdown",
   "id": "01704c51",
   "metadata": {},
   "source": [
    "Let's have a look how well the starting model predicts the data. See what changes if you set `rf=False`, in which case no spectral devision is performed and the model prediction is the synthetic seismogram. This expedites the computation, but is less exact."
   ]
  },
  {
   "cell_type": "code",
   "execution_count": 45,
   "id": "ff5ea1c1",
   "metadata": {
    "scrolled": false
   },
   "outputs": [
    {
     "data": {
      "image/png": "[encoded data removed]",
      "text/plain": [
       "<Figure size 432x288 with 1 Axes>"
      ]
     },
     "metadata": {
      "needs_background": "light"
     },
     "output_type": "display_data"
    }
   ],
   "source": [
    "    predicted = predictRF(model, geometry, rc, freqs, rfarray, ist, rf=True)\n",
    "    plot(observed, predicted)"
   ]
  },
  {
   "cell_type": "markdown",
   "id": "86a460b9",
   "metadata": {},
   "source": [
    "The first half of the data vector is the radial, the second half the transverse component of the receiver function. In this example, without dip or anisotropy, energy only gets converted to the radial, not the transverse component. The first positive wiggle is *PS*, the second one *PpS*. Note the slight misalignment between observation (fray) and model (red). The smaller later wiggles result from the deconvolution of *PpP*."
   ]
  },
  {
   "cell_type": "markdown",
   "id": "ae70d4ba",
   "metadata": {},
   "source": [
    "We now define the search bounds for dual annealing. This definition prescribes that the first element of the model vector is the *thickness of layer 0* and is searched in an intervallof $\\pm$5000 m, and its second element is the *$V_P/V_S$ ratio of layer 0*, searched in an intervall of $\\pm$0.1."
   ]
  },
  {
   "cell_type": "code",
   "execution_count": 12,
   "id": "009cccae",
   "metadata": {},
   "outputs": [],
   "source": [
    "    bounds = [\n",
    "        (model.thickn[0] - 5000, model.thickn[0] + 5000),\n",
    "        (model.vpvs[0] - 0.1, model.vpvs[0] + 0.1),\n",
    "    ]"
   ]
  },
  {
   "cell_type": "markdown",
   "id": "403a560a",
   "metadata": {},
   "source": [
    "Now we are ready to perform the inversion using `scipy`'s [dual annealing](https://docs.scipy.org/doc/scipy/reference/generated/scipy.optimize.dual_annealing.html) function. It seeks a minimum in the `misfit` function defined above. The call is in principle interchangeable with other [global search methods from the optimization module](https://docs.scipy.org/doc/scipy/reference/optimize.html#global-optimization)."
   ]
  },
  {
   "cell_type": "code",
   "execution_count": 13,
   "id": "c004cdf5",
   "metadata": {},
   "outputs": [
    {
     "name": "stdout",
     "output_type": "stream",
     "text": [
      "h = 30134, vpvs = 1.804, cc = 0.548\n",
      "h = 29246, vpvs = 1.824, cc = 0.423\n",
      "h = 28441, vpvs = 1.795, cc = 0.199\n",
      "h = 27862, vpvs = 1.795, cc = 0.176\n",
      "h = 27862, vpvs = 1.830, cc = 0.233\n",
      "h = 30134, vpvs = 1.804, cc = 0.548\n",
      "h = 30134, vpvs = 1.804, cc = 0.548\n",
      "h = 30134, vpvs = 1.804, cc = 0.548\n",
      "h = 25539, vpvs = 1.827, cc = 0.292\n",
      "h = 33965, vpvs = 1.700, cc = 0.642\n",
      "h = 33906, vpvs = 1.700, cc = 0.642\n",
      "h = 33906, vpvs = 1.689, cc = 0.647\n",
      "h = 33906, vpvs = 1.689, cc = 0.647\n",
      "h = 33906, vpvs = 1.689, cc = 0.647\n",
      "h = 33906, vpvs = 1.689, cc = 0.647\n",
      "h = 26875, vpvs = 1.830, cc = 0.229\n",
      "h = 29894, vpvs = 1.706, cc = 0.142\n",
      "h = 25658, vpvs = 1.706, cc = 0.147\n",
      "h = 25658, vpvs = 1.734, cc = 0.181\n",
      "h = 31632, vpvs = 1.797, cc = 0.735\n",
      "h = 31920, vpvs = 1.806, cc = 0.720\n",
      "h = 28105, vpvs = 1.806, cc = 0.196\n",
      "h = 28105, vpvs = 1.861, cc = 0.312\n",
      "h = 31632, vpvs = 1.797, cc = 0.735\n",
      "h = 31632, vpvs = 1.797, cc = 0.735\n",
      "h = 31632, vpvs = 1.797, cc = 0.735\n",
      "h = 25922, vpvs = 1.748, cc = 0.208\n",
      "h = 26664, vpvs = 1.758, cc = 0.201\n",
      "h = 28935, vpvs = 1.758, cc = 0.161\n",
      "h = 28935, vpvs = 1.752, cc = 0.160\n",
      "h = 27342, vpvs = 1.795, cc = 0.170\n",
      "h = 34781, vpvs = 1.792, cc = 0.257\n",
      "h = 31543, vpvs = 1.792, cc = 0.733\n",
      "h = 31543, vpvs = 1.721, cc = 0.578\n",
      "h = 26519, vpvs = 1.749, cc = 0.180\n",
      "h = 34079, vpvs = 1.726, cc = 0.585\n",
      "h = 26159, vpvs = 1.726, cc = 0.179\n",
      "h = 26159, vpvs = 1.698, cc = 0.142\n",
      "h = 25652, vpvs = 1.765, cc = 0.231\n",
      "h = 25141, vpvs = 1.838, cc = 0.322\n",
      "h = 28534, vpvs = 1.838, cc = 0.316\n",
      "h = 28534, vpvs = 1.678, cc = 0.009\n",
      "h = 33235, vpvs = 1.869, cc = 0.214\n",
      "h = 29784, vpvs = 1.746, cc = 0.264\n",
      "h = 31866, vpvs = 1.746, cc = 0.698\n",
      "h = 31866, vpvs = 1.808, cc = 0.726\n",
      "h = 30347, vpvs = 1.860, cc = 0.682\n",
      "h = 26386, vpvs = 1.873, cc = 0.287\n",
      "h = 33332, vpvs = 1.873, cc = 0.181\n",
      "h = 33332, vpvs = 1.802, cc = 0.491\n",
      "h = 32324, vpvs = 1.837, cc = 0.573\n",
      "h = 34710, vpvs = 1.832, cc = 0.099\n",
      "h = 33102, vpvs = 1.832, cc = 0.432\n",
      "h = 33102, vpvs = 1.742, cc = 0.693\n",
      "h = 27831, vpvs = 1.752, cc = 0.108\n",
      "h = 27540, vpvs = 1.682, cc = 0.072\n",
      "h = 26982, vpvs = 1.682, cc = 0.121\n",
      "h = 26982, vpvs = 1.700, cc = 0.115\n",
      "h = 25102, vpvs = 1.729, cc = 0.139\n",
      "h = 26671, vpvs = 1.762, cc = 0.186\n",
      "h = 26843, vpvs = 1.762, cc = 0.171\n",
      "h = 26843, vpvs = 1.854, cc = 0.247\n",
      "h = 27880, vpvs = 1.741, cc = 0.094\n",
      "h = 32479, vpvs = 1.782, cc = 0.705\n",
      "h = 26544, vpvs = 1.782, cc = 0.211\n",
      "h = 26544, vpvs = 1.801, cc = 0.231\n",
      "h = 34597, vpvs = 1.730, cc = 0.478\n",
      "h = 29113, vpvs = 1.802, cc = 0.337\n",
      "h = 32371, vpvs = 1.802, cc = 0.679\n",
      "h = 32371, vpvs = 1.721, cc = 0.701\n",
      "h = 26984, vpvs = 1.766, cc = 0.165\n",
      "h = 28107, vpvs = 1.838, cc = 0.258\n",
      "h = 34161, vpvs = 1.838, cc = 0.164\n",
      "h = 34161, vpvs = 1.687, cc = 0.630\n",
      "h = 26452, vpvs = 1.838, cc = 0.271\n",
      "h = 31707, vpvs = 1.853, cc = 0.621\n",
      "h = 28965, vpvs = 1.853, cc = 0.434\n",
      "h = 28965, vpvs = 1.819, cc = 0.350\n",
      "h = 25453, vpvs = 1.812, cc = 0.288\n",
      "h = 25726, vpvs = 1.798, cc = 0.253\n",
      "h = 26145, vpvs = 1.798, cc = 0.265\n",
      "h = 26145, vpvs = 1.814, cc = 0.262\n",
      "h = 29050, vpvs = 1.864, cc = 0.482\n",
      "h = 26677, vpvs = 1.762, cc = 0.186\n",
      "h = 28164, vpvs = 1.864, cc = 0.318\n",
      "h = 29050, vpvs = 1.728, cc = 0.101\n",
      "h = 34265, vpvs = 1.750, cc = 0.495\n",
      "h = 25081, vpvs = 1.779, cc = 0.224\n",
      "h = 29892, vpvs = 1.779, cc = 0.423\n",
      "h = 29892, vpvs = 1.789, cc = 0.447\n"
     ]
    }
   ],
   "source": [
    "    result = spo.dual_annealing(\n",
    "        misfit,\n",
    "        bounds,\n",
    "        args=(model, geometry, rc, freqs, rfarray, ist, observed),\n",
    "        maxiter=20,\n",
    "    )\n",
    "    "
   ]
  },
  {
   "cell_type": "markdown",
   "id": "63f4813e",
   "metadata": {},
   "source": [
    "Let's have a look at the result"
   ]
  },
  {
   "cell_type": "code",
   "execution_count": 34,
   "id": "299bc2bb",
   "metadata": {
    "scrolled": true
   },
   "outputs": [
    {
     "name": "stdout",
     "output_type": "stream",
     "text": [
      "     fun: 0.2737239241823233\n",
      " message: ['Maximum number of iteration reached']\n",
      "    nfev: 84\n",
      "    nhev: 0\n",
      "     nit: 20\n",
      "    njev: 1\n",
      "  status: 0\n",
      " success: True\n",
      "       x: array([3.16671147e+04, 1.77575889e+00])\n"
     ]
    }
   ],
   "source": [
    "    print(result)"
   ]
  },
  {
   "cell_type": "markdown",
   "id": "65d3622e",
   "metadata": {},
   "source": [
    "And assign it to the model"
   ]
  },
  {
   "cell_type": "code",
   "execution_count": 15,
   "id": "b10e946a",
   "metadata": {},
   "outputs": [
    {
     "name": "stdout",
     "output_type": "stream",
     "text": [
      "Result found with dual annealing\n",
      "# thickn     rho      vp      vs  flag aniso  trend  plunge  strike   dip\n",
      " 31594.0  2800.0  6400.0  3582.3     1   0.0    0.0     0.0     0.0   0.0\n",
      "     0.0  3600.0  8100.0  4600.0     1   0.0    0.0     0.0     0.0   0.0\n",
      "\n"
     ]
    }
   ],
   "source": [
    "    model.thickn[0] = result.x[0]\n",
    "    model.vpvs[0] = result.x[1]\n",
    "    model.update(fix='vp')\n",
    "\n",
    "    msg = \"Result found with dual annealing\"\n",
    "    print(msg)\n",
    "    print(model)"
   ]
  },
  {
   "cell_type": "markdown",
   "id": "af7349f4",
   "metadata": {},
   "source": [
    "The optimal crustal thickness is closer to 32 km, as suggested by Saul et al. (2000), and the $V_P/V_S$ ratio closer to 1.8. Note, however, that we here only looked at one receiver function from one direction. We also did not make any attempt to estimate uncertainties on the found solution.\n",
    "\n",
    "Finally, we can look at how well the optimized model predicts the data."
   ]
  },
  {
   "cell_type": "code",
   "execution_count": 16,
   "id": "bf498658",
   "metadata": {},
   "outputs": [
    {
     "data": {
      "image/png": "[encoded data removed]",
      "text/plain": [
       "<Figure size 432x288 with 1 Axes>"
      ]
     },
     "metadata": {
      "needs_background": "light"
     },
     "output_type": "display_data"
    }
   ],
   "source": [
    "    predicted = predictRF(model, geometry, rc, freqs, rfarray, ist)\n",
    "    plot(observed, predicted)"
   ]
  },
  {
   "cell_type": "markdown",
   "id": "4fcbe1fc",
   "metadata": {},
   "source": [
    "## References\n",
    "\n",
    "* Audet, P., Thomson, C.J., Bostock, M.G., and Eulenfeld, T. (2019). Telewavesim: Python software for teleseismic body wave modeling. Journal of Open Source Software, 4(44), 1818, https://doi.org/10.21105/joss.01818\n",
    "\n",
    "* Saul, J., Kumar, M. R., & Sarkar, D. (2000). Lithospheric and upper mantle structure of the Indian Shield, from teleseismic receiver functions. Geophysical Research Letters, 27(16), 2357-2360. https://doi.org/10.1029/1999GL011128"
   ]
  },
  {
   "cell_type": "code",
   "execution_count": null,
   "id": "a030d40e",
   "metadata": {},
   "outputs": [],
   "source": []
  }
 ],
 "metadata": {
  "kernelspec": {
   "display_name": "Python 3 (ipykernel)",
   "language": "python",
   "name": "python3"
  },
  "language_info": {
   "codemirror_mode": {
    "name": "ipython",
    "version": 3
   },
   "file_extension": ".py",
   "mimetype": "text/x-python",
   "name": "python",
   "nbconvert_exporter": "python",
   "pygments_lexer": "ipython3",
   "version": "3.9.12"
  }
 },
 "nbformat": 4,
 "nbformat_minor": 5
}
